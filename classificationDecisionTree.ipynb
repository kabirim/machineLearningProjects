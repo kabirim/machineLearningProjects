{
 "cells": [
  {
   "cell_type": "code",
   "execution_count": 5,
   "metadata": {},
   "outputs": [],
   "source": [
    "import numpy as np\n",
    "import pandas as pd\n",
    "import matplotlib.pyplot as plt\n",
    "from sklearn import tree\n",
    "from sklearn.model_selection import train_test_split\n",
    "from sklearn.metrics import classification_report\n",
    "from sklearn.metrics import confusion_matrix\n",
    "from sklearn.metrics import ConfusionMatrixDisplay\n",
    "from Helper.helper import plot_boundary\n",
    "from prettytable import PrettyTable\n",
    "\n",
    "# Read data from csv file\n",
    "df = pd.read_csv(\"./diabetes.csv\")"
   ]
  },
  {
   "cell_type": "code",
   "execution_count": 6,
   "metadata": {},
   "outputs": [
    {
     "name": "stdout",
     "output_type": "stream",
     "text": [
      "+-----------+--------------------+----------------+---------------+\n",
      "| Max Depth | Number of Features | Train Accuracy | Test Accuracy |\n",
      "+-----------+--------------------+----------------+---------------+\n",
      "|     2     |         2          |     0.741      |     0.7143    |\n",
      "|     10    |         2          |     0.9414     |     0.6429    |\n",
      "+-----------+--------------------+----------------+---------------+\n"
     ]
    }
   ],
   "source": [
    "x = df[[\"Glucose\",\"DiabetesPedigreeFunction\"]]\n",
    "y = df[\"Outcome\"]\n",
    "\n",
    "x_train,x_test,y_train,y_test = train_test_split(x,y, test_size=0.2)\n",
    "\n",
    "# Using Decision Tree classifier with a depth of 2\n",
    "dt1 = tree.DecisionTreeClassifier(max_depth=2)\n",
    "dt1.fit(x_train,y_train)\n",
    "\n",
    "# Using Decision Tree classifier with depth of 10\n",
    "dt2 = tree.DecisionTreeClassifier(max_depth=10)\n",
    "dt2.fit(x_train,y_train)\n",
    "\n",
    "#plot_boundary(df, dt1, dt2)\n",
    "\n",
    "# Testing phase\n",
    "y_train_pred_dt1 = dt1.predict(x_train)\n",
    "#print(classification_report(y_true= y_train, y_pred=y_train_pred_dt1))\n",
    "# confusion_matrix_dt1_train = confusion_matrix(y_true=y_train, y_pred=y_train_pred_dt1)\n",
    "# cmd_display_dt1_train = ConfusionMatrixDisplay(confusion_matrix=confusion_matrix_dt1_train)\n",
    "# cmd_display_dt1_train.plot()\n",
    "\n",
    "y_train_pred_dt2 = dt2.predict(x_train)\n",
    "#print(classification_report(y_true= y_train, y_pred=y_train_pred_dt2))\n",
    "# confusion_matrix_dt2_train = confusion_matrix(y_true=y_train, y_pred=y_train_pred_dt2)\n",
    "# cmd_display_dt2_train = ConfusionMatrixDisplay(confusion_matrix=confusion_matrix_dt2_train)\n",
    "# cmd_display_dt2_train.plot()\n",
    "\n",
    "y_test_pred_dt1 = dt1.predict(x_test)\n",
    "#print(classification_report(y_true= y_test, y_pred=y_test_pred_dt1))\n",
    "#confusion_matrix_dt1_test = confusion_matrix(y_true=y_test, y_pred=y_test_pred_dt1)\n",
    "#cmd_display_dt1_test = ConfusionMatrixDisplay(confusion_matrix=confusion_matrix_dt1_test)\n",
    "#cmd_display_dt1_test.plot()\n",
    "\n",
    "y_test_pred_dt2 = dt2.predict(x_test)\n",
    "#print(classification_report(y_true= y_test, y_pred=y_test_pred_dt1))\n",
    "#confusion_matrix_dt2_test = confusion_matrix(y_true=y_test, y_pred=y_test_pred_dt2)\n",
    "#cmd_display_dt2_test = ConfusionMatrixDisplay(confusion_matrix=confusion_matrix_dt2_test)\n",
    "#cmd_display_dt2_test.plot()\n",
    "\n",
    "# Compute the train and test accuracy for the first decision tree classifier of depth 2\n",
    "dt1_train_acc = dt1.score(x_train,y_train)\n",
    "dt1_test_acc = dt1.score(x_test,y_test)\n",
    "\n",
    "# Compute the train and test accuracy for the second decision tree classifier of depth 10\n",
    "dt2_train_acc = dt2.score(x_train,y_train)\n",
    "dt2_test_acc = dt2.score(x_test,y_test)\n",
    "\n",
    "cols = df[[\"Glucose\", \"DiabetesPedigreeFunction\"]].columns.to_list()\n",
    "pt = PrettyTable()\n",
    "pt.field_names = ['Max Depth', 'Number of Features', 'Train Accuracy', 'Test Accuracy']\n",
    "pt.add_row([2, len(cols), round(dt1_train_acc, 4), round(dt1_test_acc,4)])\n",
    "pt.add_row([10, len(cols), round(dt2_train_acc,4), round(dt2_test_acc,4)])\n",
    "print(pt)\n"
   ]
  }
 ],
 "metadata": {
  "kernelspec": {
   "display_name": "Python 3",
   "language": "python",
   "name": "python3"
  },
  "language_info": {
   "codemirror_mode": {
    "name": "ipython",
    "version": 3
   },
   "file_extension": ".py",
   "mimetype": "text/x-python",
   "name": "python",
   "nbconvert_exporter": "python",
   "pygments_lexer": "ipython3",
   "version": "3.12.9"
  }
 },
 "nbformat": 4,
 "nbformat_minor": 2
}
